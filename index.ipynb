{
 "cells": [
  {
   "cell_type": "markdown",
   "id": "ec72f50a",
   "metadata": {},
   "source": [
    "# World Mental Health indicators "
   ]
  },
  {
   "cell_type": "markdown",
   "id": "3ace675a",
   "metadata": {},
   "source": [
    "### 📋 Introduction\n",
    "\n",
    "Mental health disorders constitute a significant portion of the global burden of disease and disability. According to the World Health Organization (WHO), mental health conditions such as depression, anxiety, and substance use disorders are among the leading causes of ill health and disability worldwide. Despite increasing awareness and policy efforts, many individuals still suffer in silence due to stigma, lack of resources, and inadequate mental health infrastructure.\n",
    "\n",
    "This analysis leverages a longitudinal dataset capturing the **estimated prevalence (% of the population)** of various mental health conditions across countries and territories from **1990 onwards**. By examining trends over time and across regions, this analysis aims to provide insights into how these disorders are distributed globally, how they have changed historically, and what patterns might emerge when disorders are compared or correlated.\n",
    "\n",
    "Understanding these patterns is crucial for guiding effective mental health interventions, shaping public policy, allocating healthcare resources, and promoting mental well-being at both national and international levels.\n",
    "\n",
    "---\n",
    "\n",
    "### 📂 Dataset Description\n",
    "\n",
    "The dataset consists of annual estimates of mental health disorder prevalence for multiple countries over several decades. Each observation represents the percentage of a country's population affected by a specific disorder in a given year. The dataset includes the following variables:\n",
    "\n",
    "- `index`: A unique identifier for each row in the dataset.\n",
    "- `Entity`: The name of the country, region, or global aggregate.\n",
    "- `Code`: The ISO 3166-1 alpha-3 code for the entity (where applicable).\n",
    "- `Year`: The calendar year of the observation.\n",
    "- `Schizophrenia (%)`: Estimated percentage of the population diagnosed with schizophrenia.\n",
    "- `Bipolar disorder (%)`: Estimated percentage affected by bipolar disorder.\n",
    "- `Eating disorders (%)`: Estimated percentage affected by conditions like anorexia nervosa or bulimia.\n",
    "- `Anxiety disorders (%)`: Estimated percentage affected by anxiety disorders (e.g., generalized anxiety, phobias).\n",
    "- `Drug use disorders (%)`: Estimated percentage with disorders related to drug misuse.\n",
    "- `Depression (%)`: Estimated percentage affected by depressive disorders (e.g., major depression).\n",
    "- `Alcohol use disorders (%)`: Estimated percentage with alcohol-related disorders.\n",
    "\n",
    "All prevalence values are reported as percentages and reflect modeled estimates based on epidemiological studies, surveys, and statistical methods. The scope and quality of the data may vary between countries and over time due to differences in reporting, diagnostic standards, and data availability.\n",
    "\n",
    "---\n",
    "\n",
    "### 🎯 Objectives of the Analysis\n",
    "\n",
    "This analysis aims to explore the following research questions and themes:\n",
    "\n",
    "1. **Temporal Trends**:  \n",
    "   How have the prevalence rates of mental health disorders changed globally and regionally from 1990 to the present? Are there disorders showing significant increases or decreases over time?\n",
    "\n",
    "2. **Geographical Distribution**:  \n",
    "   Which regions or countries exhibit the highest or lowest prevalence of specific mental health disorders? Are there noticeable regional patterns or clusters?\n",
    "\n",
    "3. **Disorder-Specific Patterns**:  \n",
    "   How do disorders compare in terms of their prevalence across different entities? Are some disorders more universally common while others show localized spikes?\n",
    "\n",
    "4. **Correlations and Co-occurrence**:  \n",
    "   Are certain mental health conditions likely to co-occur within populations? For example, is there a strong relationship between anxiety and depression prevalence?\n",
    "\n",
    "5. **Public Health Implications**:  \n",
    "   What do these trends imply for mental health services, awareness campaigns, and future interventions? Where should resources be prioritized?\n",
    "\n",
    "---\n",
    "\n",
    "### 📌 Scope and Limitations\n",
    "\n",
    "While this dataset provides valuable insights into global mental health trends, it's important to acknowledge the following limitations:\n",
    "\n",
    "- **Estimation Errors**: Prevalence values are based on modeled estimates and may not reflect precise real-world values.\n",
    "- **Reporting Disparities**: Mental health data may be underreported or inconsistently documented in certain regions due to stigma, lack of access to healthcare, or limited data collection infrastructure.\n",
    "- **No Demographic Breakdown**: The dataset does not include demographic details such as age, gender, or socioeconomic status, which are critical for deeper stratified analysis.\n",
    "- **Causality vs Correlation**: Observed patterns should not be interpreted as causal relationships without further in-depth study and contextual information.\n",
    "\n",
    "Despite these constraints, the dataset offers a valuable high-level perspective on mental health disorder prevalence and provides a strong starting point for more focused research.\n",
    "\n",
    "---\n",
    "\n",
    "### 🧭 Next Steps\n",
    "\n",
    "The following sections will include:\n",
    "\n",
    "- **Data Cleaning and Preparation**  \n",
    "- **Exploratory Data Analysis (EDA)**  \n",
    "- **Trend and Correlation Analysis**  \n",
    "- **Key Insights and Visualizations**  \n",
    "- **Recommendations and Future Work**\n",
    "\n",
    "Let’s begin by preparing the dataset for analysis.\n"
   ]
  },
  {
   "cell_type": "code",
   "execution_count": 198,
   "id": "7cad6798",
   "metadata": {},
   "outputs": [],
   "source": [
    "# importing libraries\n",
    "import numpy as np\n",
    "import matplotlib.pyplot as plt\n",
    "import seaborn as sns\n",
    "import pandas as pd"
   ]
  },
  {
   "cell_type": "markdown",
   "id": "cfc2cea8",
   "metadata": {},
   "source": [
    "Loading the dataset using pandas into a dataframe is done here. There are two parts of the dataset, split from index 6469. Our main focus in the machine learning process is on index 0 to 6468."
   ]
  },
  {
   "cell_type": "code",
   "execution_count": 199,
   "id": "35a363ae",
   "metadata": {},
   "outputs": [
    {
     "name": "stderr",
     "output_type": "stream",
     "text": [
      "C:\\Users\\user\\AppData\\Local\\Temp\\ipykernel_15348\\3319757204.py:2: DtypeWarning: Columns (5,6) have mixed types. Specify dtype option on import or set low_memory=False.\n",
      "  df = pd.read_csv(\"data.csv\")\n"
     ]
    }
   ],
   "source": [
    "# loading the dataset using pandas\n",
    "df = pd.read_csv(\"data.csv\")\n",
    "data = df[1:6468].copy()"
   ]
  },
  {
   "cell_type": "markdown",
   "id": "f095d473",
   "metadata": {},
   "source": [
    "## Data Understanding"
   ]
  },
  {
   "cell_type": "code",
   "execution_count": 200,
   "id": "3d1fdcf3",
   "metadata": {},
   "outputs": [
    {
     "data": {
      "text/html": [
       "<div>\n",
       "<style scoped>\n",
       "    .dataframe tbody tr th:only-of-type {\n",
       "        vertical-align: middle;\n",
       "    }\n",
       "\n",
       "    .dataframe tbody tr th {\n",
       "        vertical-align: top;\n",
       "    }\n",
       "\n",
       "    .dataframe thead th {\n",
       "        text-align: right;\n",
       "    }\n",
       "</style>\n",
       "<table border=\"1\" class=\"dataframe\">\n",
       "  <thead>\n",
       "    <tr style=\"text-align: right;\">\n",
       "      <th></th>\n",
       "      <th>index</th>\n",
       "      <th>Entity</th>\n",
       "      <th>Code</th>\n",
       "      <th>Year</th>\n",
       "      <th>Schizophrenia (%)</th>\n",
       "      <th>Bipolar disorder (%)</th>\n",
       "      <th>Eating disorders (%)</th>\n",
       "      <th>Anxiety disorders (%)</th>\n",
       "      <th>Drug use disorders (%)</th>\n",
       "      <th>Depression (%)</th>\n",
       "      <th>Alcohol use disorders (%)</th>\n",
       "    </tr>\n",
       "  </thead>\n",
       "  <tbody>\n",
       "    <tr>\n",
       "      <th>1</th>\n",
       "      <td>1</td>\n",
       "      <td>Afghanistan</td>\n",
       "      <td>AFG</td>\n",
       "      <td>1991</td>\n",
       "      <td>0.160312</td>\n",
       "      <td>0.697961</td>\n",
       "      <td>0.099313</td>\n",
       "      <td>4.829740</td>\n",
       "      <td>1.684746</td>\n",
       "      <td>4.079531</td>\n",
       "      <td>0.671768</td>\n",
       "    </tr>\n",
       "    <tr>\n",
       "      <th>2</th>\n",
       "      <td>2</td>\n",
       "      <td>Afghanistan</td>\n",
       "      <td>AFG</td>\n",
       "      <td>1992</td>\n",
       "      <td>0.160135</td>\n",
       "      <td>0.698107</td>\n",
       "      <td>0.096692</td>\n",
       "      <td>4.831108</td>\n",
       "      <td>1.694334</td>\n",
       "      <td>4.088358</td>\n",
       "      <td>0.670644</td>\n",
       "    </tr>\n",
       "    <tr>\n",
       "      <th>3</th>\n",
       "      <td>3</td>\n",
       "      <td>Afghanistan</td>\n",
       "      <td>AFG</td>\n",
       "      <td>1993</td>\n",
       "      <td>0.160037</td>\n",
       "      <td>0.698257</td>\n",
       "      <td>0.094336</td>\n",
       "      <td>4.830864</td>\n",
       "      <td>1.705320</td>\n",
       "      <td>4.096190</td>\n",
       "      <td>0.669738</td>\n",
       "    </tr>\n",
       "    <tr>\n",
       "      <th>4</th>\n",
       "      <td>4</td>\n",
       "      <td>Afghanistan</td>\n",
       "      <td>AFG</td>\n",
       "      <td>1994</td>\n",
       "      <td>0.160022</td>\n",
       "      <td>0.698469</td>\n",
       "      <td>0.092439</td>\n",
       "      <td>4.829423</td>\n",
       "      <td>1.716069</td>\n",
       "      <td>4.099582</td>\n",
       "      <td>0.669260</td>\n",
       "    </tr>\n",
       "    <tr>\n",
       "      <th>5</th>\n",
       "      <td>5</td>\n",
       "      <td>Afghanistan</td>\n",
       "      <td>AFG</td>\n",
       "      <td>1995</td>\n",
       "      <td>0.160076</td>\n",
       "      <td>0.698695</td>\n",
       "      <td>0.09098</td>\n",
       "      <td>4.828337</td>\n",
       "      <td>1.728112</td>\n",
       "      <td>4.104207</td>\n",
       "      <td>0.668746</td>\n",
       "    </tr>\n",
       "  </tbody>\n",
       "</table>\n",
       "</div>"
      ],
      "text/plain": [
       "   index       Entity Code  Year Schizophrenia (%) Bipolar disorder (%)  \\\n",
       "1      1  Afghanistan  AFG  1991          0.160312             0.697961   \n",
       "2      2  Afghanistan  AFG  1992          0.160135             0.698107   \n",
       "3      3  Afghanistan  AFG  1993          0.160037             0.698257   \n",
       "4      4  Afghanistan  AFG  1994          0.160022             0.698469   \n",
       "5      5  Afghanistan  AFG  1995          0.160076             0.698695   \n",
       "\n",
       "  Eating disorders (%)  Anxiety disorders (%)  Drug use disorders (%)  \\\n",
       "1             0.099313               4.829740                1.684746   \n",
       "2             0.096692               4.831108                1.694334   \n",
       "3             0.094336               4.830864                1.705320   \n",
       "4             0.092439               4.829423                1.716069   \n",
       "5              0.09098               4.828337                1.728112   \n",
       "\n",
       "   Depression (%)  Alcohol use disorders (%)  \n",
       "1        4.079531                   0.671768  \n",
       "2        4.088358                   0.670644  \n",
       "3        4.096190                   0.669738  \n",
       "4        4.099582                   0.669260  \n",
       "5        4.104207                   0.668746  "
      ]
     },
     "execution_count": 200,
     "metadata": {},
     "output_type": "execute_result"
    }
   ],
   "source": [
    "# checking the data head\n",
    "data.head()"
   ]
  },
  {
   "cell_type": "code",
   "execution_count": 201,
   "id": "08f71715",
   "metadata": {},
   "outputs": [
    {
     "data": {
      "text/plain": [
       "(6467, 11)"
      ]
     },
     "execution_count": 201,
     "metadata": {},
     "output_type": "execute_result"
    }
   ],
   "source": [
    "# Checking the data shape\n",
    "data.shape"
   ]
  },
  {
   "cell_type": "code",
   "execution_count": 202,
   "id": "632cfb75",
   "metadata": {},
   "outputs": [
    {
     "data": {
      "text/html": [
       "<div>\n",
       "<style scoped>\n",
       "    .dataframe tbody tr th:only-of-type {\n",
       "        vertical-align: middle;\n",
       "    }\n",
       "\n",
       "    .dataframe tbody tr th {\n",
       "        vertical-align: top;\n",
       "    }\n",
       "\n",
       "    .dataframe thead th {\n",
       "        text-align: right;\n",
       "    }\n",
       "</style>\n",
       "<table border=\"1\" class=\"dataframe\">\n",
       "  <thead>\n",
       "    <tr style=\"text-align: right;\">\n",
       "      <th></th>\n",
       "      <th>index</th>\n",
       "      <th>Entity</th>\n",
       "      <th>Code</th>\n",
       "      <th>Year</th>\n",
       "      <th>Schizophrenia (%)</th>\n",
       "      <th>Bipolar disorder (%)</th>\n",
       "      <th>Eating disorders (%)</th>\n",
       "      <th>Anxiety disorders (%)</th>\n",
       "      <th>Drug use disorders (%)</th>\n",
       "      <th>Depression (%)</th>\n",
       "      <th>Alcohol use disorders (%)</th>\n",
       "    </tr>\n",
       "  </thead>\n",
       "  <tbody>\n",
       "    <tr>\n",
       "      <th>6463</th>\n",
       "      <td>6463</td>\n",
       "      <td>Zimbabwe</td>\n",
       "      <td>ZWE</td>\n",
       "      <td>2013</td>\n",
       "      <td>0.15567</td>\n",
       "      <td>0.607993</td>\n",
       "      <td>0.117248</td>\n",
       "      <td>3.090168</td>\n",
       "      <td>0.766280</td>\n",
       "      <td>3.128192</td>\n",
       "      <td>1.515641</td>\n",
       "    </tr>\n",
       "    <tr>\n",
       "      <th>6464</th>\n",
       "      <td>6464</td>\n",
       "      <td>Zimbabwe</td>\n",
       "      <td>ZWE</td>\n",
       "      <td>2014</td>\n",
       "      <td>0.155993</td>\n",
       "      <td>0.60861</td>\n",
       "      <td>0.118073</td>\n",
       "      <td>3.093964</td>\n",
       "      <td>0.768914</td>\n",
       "      <td>3.140290</td>\n",
       "      <td>1.515470</td>\n",
       "    </tr>\n",
       "    <tr>\n",
       "      <th>6465</th>\n",
       "      <td>6465</td>\n",
       "      <td>Zimbabwe</td>\n",
       "      <td>ZWE</td>\n",
       "      <td>2015</td>\n",
       "      <td>0.156465</td>\n",
       "      <td>0.609363</td>\n",
       "      <td>0.11947</td>\n",
       "      <td>3.098687</td>\n",
       "      <td>0.771802</td>\n",
       "      <td>3.155710</td>\n",
       "      <td>1.514751</td>\n",
       "    </tr>\n",
       "    <tr>\n",
       "      <th>6466</th>\n",
       "      <td>6466</td>\n",
       "      <td>Zimbabwe</td>\n",
       "      <td>ZWE</td>\n",
       "      <td>2016</td>\n",
       "      <td>0.157111</td>\n",
       "      <td>0.610234</td>\n",
       "      <td>0.121456</td>\n",
       "      <td>3.104294</td>\n",
       "      <td>0.772275</td>\n",
       "      <td>3.174134</td>\n",
       "      <td>1.513269</td>\n",
       "    </tr>\n",
       "    <tr>\n",
       "      <th>6467</th>\n",
       "      <td>6467</td>\n",
       "      <td>Zimbabwe</td>\n",
       "      <td>ZWE</td>\n",
       "      <td>2017</td>\n",
       "      <td>0.157963</td>\n",
       "      <td>0.611242</td>\n",
       "      <td>0.124443</td>\n",
       "      <td>3.110926</td>\n",
       "      <td>0.772648</td>\n",
       "      <td>3.192789</td>\n",
       "      <td>1.510943</td>\n",
       "    </tr>\n",
       "  </tbody>\n",
       "</table>\n",
       "</div>"
      ],
      "text/plain": [
       "      index    Entity Code  Year Schizophrenia (%) Bipolar disorder (%)  \\\n",
       "6463   6463  Zimbabwe  ZWE  2013           0.15567             0.607993   \n",
       "6464   6464  Zimbabwe  ZWE  2014          0.155993              0.60861   \n",
       "6465   6465  Zimbabwe  ZWE  2015          0.156465             0.609363   \n",
       "6466   6466  Zimbabwe  ZWE  2016          0.157111             0.610234   \n",
       "6467   6467  Zimbabwe  ZWE  2017          0.157963             0.611242   \n",
       "\n",
       "     Eating disorders (%)  Anxiety disorders (%)  Drug use disorders (%)  \\\n",
       "6463             0.117248               3.090168                0.766280   \n",
       "6464             0.118073               3.093964                0.768914   \n",
       "6465              0.11947               3.098687                0.771802   \n",
       "6466             0.121456               3.104294                0.772275   \n",
       "6467             0.124443               3.110926                0.772648   \n",
       "\n",
       "      Depression (%)  Alcohol use disorders (%)  \n",
       "6463        3.128192                   1.515641  \n",
       "6464        3.140290                   1.515470  \n",
       "6465        3.155710                   1.514751  \n",
       "6466        3.174134                   1.513269  \n",
       "6467        3.192789                   1.510943  "
      ]
     },
     "execution_count": 202,
     "metadata": {},
     "output_type": "execute_result"
    }
   ],
   "source": [
    "# Checking the data tail\n",
    "data.tail()"
   ]
  },
  {
   "cell_type": "code",
   "execution_count": 203,
   "id": "99273522",
   "metadata": {},
   "outputs": [
    {
     "data": {
      "text/plain": [
       "<bound method NDFrame.describe of       index       Entity Code  Year Schizophrenia (%) Bipolar disorder (%)  \\\n",
       "1         1  Afghanistan  AFG  1991          0.160312             0.697961   \n",
       "2         2  Afghanistan  AFG  1992          0.160135             0.698107   \n",
       "3         3  Afghanistan  AFG  1993          0.160037             0.698257   \n",
       "4         4  Afghanistan  AFG  1994          0.160022             0.698469   \n",
       "5         5  Afghanistan  AFG  1995          0.160076             0.698695   \n",
       "...     ...          ...  ...   ...               ...                  ...   \n",
       "6463   6463     Zimbabwe  ZWE  2013           0.15567             0.607993   \n",
       "6464   6464     Zimbabwe  ZWE  2014          0.155993              0.60861   \n",
       "6465   6465     Zimbabwe  ZWE  2015          0.156465             0.609363   \n",
       "6466   6466     Zimbabwe  ZWE  2016          0.157111             0.610234   \n",
       "6467   6467     Zimbabwe  ZWE  2017          0.157963             0.611242   \n",
       "\n",
       "     Eating disorders (%)  Anxiety disorders (%)  Drug use disorders (%)  \\\n",
       "1                0.099313               4.829740                1.684746   \n",
       "2                0.096692               4.831108                1.694334   \n",
       "3                0.094336               4.830864                1.705320   \n",
       "4                0.092439               4.829423                1.716069   \n",
       "5                 0.09098               4.828337                1.728112   \n",
       "...                   ...                    ...                     ...   \n",
       "6463             0.117248               3.090168                0.766280   \n",
       "6464             0.118073               3.093964                0.768914   \n",
       "6465              0.11947               3.098687                0.771802   \n",
       "6466             0.121456               3.104294                0.772275   \n",
       "6467             0.124443               3.110926                0.772648   \n",
       "\n",
       "      Depression (%)  Alcohol use disorders (%)  \n",
       "1           4.079531                   0.671768  \n",
       "2           4.088358                   0.670644  \n",
       "3           4.096190                   0.669738  \n",
       "4           4.099582                   0.669260  \n",
       "5           4.104207                   0.668746  \n",
       "...              ...                        ...  \n",
       "6463        3.128192                   1.515641  \n",
       "6464        3.140290                   1.515470  \n",
       "6465        3.155710                   1.514751  \n",
       "6466        3.174134                   1.513269  \n",
       "6467        3.192789                   1.510943  \n",
       "\n",
       "[6467 rows x 11 columns]>"
      ]
     },
     "execution_count": 203,
     "metadata": {},
     "output_type": "execute_result"
    }
   ],
   "source": [
    "# checking statistical description of the data\n",
    "data.describe"
   ]
  },
  {
   "cell_type": "markdown",
   "id": "3b79f2e9",
   "metadata": {},
   "source": [
    "## Data Cleaning"
   ]
  },
  {
   "cell_type": "markdown",
   "id": "d3e0d222",
   "metadata": {},
   "source": [
    "In this section, data will be cleaned based on these four metrics in their highlighted sequence:\n",
    "- Completeness\n",
    "- Validity\n",
    "- Consistency\n",
    "- Accuracy"
   ]
  },
  {
   "cell_type": "markdown",
   "id": "424292cf",
   "metadata": {},
   "source": [
    "### Validity"
   ]
  },
  {
   "cell_type": "markdown",
   "id": "0ccf472d",
   "metadata": {},
   "source": [
    "#### - Checking datatypes are correct"
   ]
  },
  {
   "cell_type": "code",
   "execution_count": 204,
   "id": "514eb8bb",
   "metadata": {},
   "outputs": [
    {
     "data": {
      "text/plain": [
       "index                          int64\n",
       "Entity                        object\n",
       "Code                          object\n",
       "Year                          object\n",
       "Schizophrenia (%)             object\n",
       "Bipolar disorder (%)          object\n",
       "Eating disorders (%)          object\n",
       "Anxiety disorders (%)        float64\n",
       "Drug use disorders (%)       float64\n",
       "Depression (%)               float64\n",
       "Alcohol use disorders (%)    float64\n",
       "dtype: object"
      ]
     },
     "execution_count": 204,
     "metadata": {},
     "output_type": "execute_result"
    }
   ],
   "source": [
    "# Checking datatypes of each column|\n",
    "data.dtypes"
   ]
  },
  {
   "cell_type": "markdown",
   "id": "96b633a9",
   "metadata": {},
   "source": [
    "Other than 'Entity', the date column should be of time_date format and the rest should be of float format"
   ]
  },
  {
   "cell_type": "code",
   "execution_count": 205,
   "id": "7cbf1a99",
   "metadata": {},
   "outputs": [
    {
     "data": {
      "text/plain": [
       "index                                 int64\n",
       "Entity                               object\n",
       "Code                                 object\n",
       "Year                         datetime64[ns]\n",
       "Schizophrenia (%)                   float64\n",
       "Bipolar disorder (%)                float64\n",
       "Eating disorders (%)                float64\n",
       "Anxiety disorders (%)               float64\n",
       "Drug use disorders (%)              float64\n",
       "Depression (%)                      float64\n",
       "Alcohol use disorders (%)           float64\n",
       "dtype: object"
      ]
     },
     "execution_count": 205,
     "metadata": {},
     "output_type": "execute_result"
    }
   ],
   "source": [
    "# Listing columns that we are to change the datatypes of\n",
    "# 'Year' should be of datetime64[ns] format, and the rest should be of float64 format\n",
    "# 'Schizophrenia (%)', 'Bipolar disorder (%)', and 'Eating disorders (%)' should be of float64 format\n",
    "# 'Everything should remain as is\n",
    "changing_datatypes = {\n",
    "    'Year': 'datetime64[ns]',\n",
    "    'Schizophrenia (%)': 'float64',\n",
    "    'Bipolar disorder (%)': 'float64',\n",
    "    'Eating disorders (%)': 'float64'\n",
    "}\n",
    "\n",
    "# Changing the datatypes of the specified columns\n",
    "data = data.astype(changing_datatypes)\n",
    "\n",
    "# Checking the datatypes after conversion\n",
    "data.dtypes"
   ]
  },
  {
   "cell_type": "markdown",
   "id": "55eb80f4",
   "metadata": {},
   "source": [
    "#### - Uniqueness"
   ]
  },
  {
   "cell_type": "markdown",
   "id": "10212a91",
   "metadata": {},
   "source": [
    "At this stage, we ensure there are no duplicates in the dataset"
   ]
  },
  {
   "cell_type": "code",
   "execution_count": 206,
   "id": "2ffadc92",
   "metadata": {},
   "outputs": [
    {
     "data": {
      "text/plain": [
       "0"
      ]
     },
     "execution_count": 206,
     "metadata": {},
     "output_type": "execute_result"
    }
   ],
   "source": [
    "# Checking for uniqueness\n",
    "data.duplicated().sum()"
   ]
  },
  {
   "cell_type": "markdown",
   "id": "0150c899",
   "metadata": {},
   "source": [
    "No duplicates in the data"
   ]
  },
  {
   "cell_type": "markdown",
   "id": "686a87a0",
   "metadata": {},
   "source": [
    "### Completeness\n",
    "\n",
    "Involves ensuring there are no missing values in the data. Involves finding null values in the data. "
   ]
  },
  {
   "cell_type": "code",
   "execution_count": 207,
   "id": "49334369",
   "metadata": {},
   "outputs": [
    {
     "data": {
      "text/plain": [
       "index                          0\n",
       "Entity                         0\n",
       "Code                         980\n",
       "Year                           0\n",
       "Schizophrenia (%)              0\n",
       "Bipolar disorder (%)           0\n",
       "Eating disorders (%)           0\n",
       "Anxiety disorders (%)          0\n",
       "Drug use disorders (%)         0\n",
       "Depression (%)                 0\n",
       "Alcohol use disorders (%)      0\n",
       "dtype: int64"
      ]
     },
     "execution_count": 207,
     "metadata": {},
     "output_type": "execute_result"
    }
   ],
   "source": [
    "# Checking for null values in the dataset\n",
    "data.isnull().sum()"
   ]
  },
  {
   "cell_type": "markdown",
   "id": "78c699ed",
   "metadata": {},
   "source": [
    "The `Code` column is not necessary in our assessment. It should be dropped"
   ]
  },
  {
   "cell_type": "code",
   "execution_count": 208,
   "id": "31f3afd1",
   "metadata": {},
   "outputs": [],
   "source": [
    "# Dropping the 'Code' column as it is not necessary for our analysis\n",
    "data.drop(columns=['Code'], inplace=True)"
   ]
  },
  {
   "cell_type": "markdown",
   "id": "bc4041c9",
   "metadata": {},
   "source": [
    "However, in anticipation, we will have a pipeline with KNN imputer model that will fill any future null values should they exist"
   ]
  },
  {
   "cell_type": "code",
   "execution_count": 209,
   "id": "35411a32",
   "metadata": {},
   "outputs": [],
   "source": [
    "# Importing necessary libraries for preprocessing\n",
    "from sklearn.impute import KNNImputer\n",
    "from sklearn.pipeline import Pipeline\n",
    "from sklearn.preprocessing import MinMaxScaler\n",
    "from sklearn.compose import ColumnTransformer\n",
    "from sklearn.preprocessing import OneHotEncoder"
   ]
  },
  {
   "cell_type": "code",
   "execution_count": 210,
   "id": "f9d38617",
   "metadata": {},
   "outputs": [],
   "source": [
    "# Splitting the data into numerical and categorical features\n",
    "data['Year'] = data['Year'].dt.year\n",
    "numerical_columns = data.select_dtypes(include=['int64', 'float64']).columns\n",
    "catergorical_columns = data.select_dtypes(include=['object']).columns"
   ]
  },
  {
   "cell_type": "code",
   "execution_count": 211,
   "id": "c349de3b",
   "metadata": {},
   "outputs": [
    {
     "data": {
      "text/plain": [
       "Index(['index', 'Schizophrenia (%)', 'Bipolar disorder (%)',\n",
       "       'Eating disorders (%)', 'Anxiety disorders (%)',\n",
       "       'Drug use disorders (%)', 'Depression (%)',\n",
       "       'Alcohol use disorders (%)'],\n",
       "      dtype='object')"
      ]
     },
     "execution_count": 211,
     "metadata": {},
     "output_type": "execute_result"
    }
   ],
   "source": [
    "# Checking numerical columns\n",
    "numerical_columns"
   ]
  },
  {
   "cell_type": "code",
   "execution_count": 212,
   "id": "561962c8",
   "metadata": {},
   "outputs": [
    {
     "data": {
      "text/plain": [
       "Index(['Entity'], dtype='object')"
      ]
     },
     "execution_count": 212,
     "metadata": {},
     "output_type": "execute_result"
    }
   ],
   "source": [
    "# Checking categorical columns\n",
    "catergorical_columns"
   ]
  },
  {
   "cell_type": "code",
   "execution_count": 213,
   "id": "ecf2be35",
   "metadata": {},
   "outputs": [],
   "source": [
    "# Creating a preprocessing pipeline for all columns\n",
    "preprocessor = ColumnTransformer(\n",
    "    transformers = [\n",
    "        ('num', MinMaxScaler(), numerical_columns), # Scaling the data to a range of [0, 1]\n",
    "        ('cat', OneHotEncoder(handle_unknown = 'ignore', sparse = False), catergorical_columns)  # encoding categorical variables\n",
    "         \n",
    "    ],\n",
    "     remainder = 'passthrough' \n",
    ")"
   ]
  },
  {
   "cell_type": "code",
   "execution_count": 214,
   "id": "801ef1c1",
   "metadata": {},
   "outputs": [],
   "source": [
    "# Complete pipeline including the KNN imputer\n",
    "pipeline = Pipeline([\n",
    "    # Adding the preprocessing pipeline\n",
    "    ('preprocessor', preprocessor), \n",
    "    # Using KNN imputer with uniform weights\n",
    "    ('imputer', KNNImputer(n_neighbors=5, weights='uniform'))\n",
    "  ]\n",
    "  )  \n",
    "    "
   ]
  },
  {
   "cell_type": "code",
   "execution_count": 215,
   "id": "627f07ff",
   "metadata": {},
   "outputs": [
    {
     "name": "stderr",
     "output_type": "stream",
     "text": [
      "c:\\Users\\user\\anaconda3\\envs\\venv\\lib\\site-packages\\sklearn\\preprocessing\\_encoders.py:972: FutureWarning: `sparse` was renamed to `sparse_output` in version 1.2 and will be removed in 1.4. `sparse_output` is ignored unless you leave `sparse` to its default value.\n",
      "  warnings.warn(\n"
     ]
    }
   ],
   "source": [
    "# Fit tansforming the data using the pipeline\n",
    "fitted = pipeline.fit_transform(data)\n"
   ]
  },
  {
   "cell_type": "code",
   "execution_count": 217,
   "id": "458b1a09",
   "metadata": {},
   "outputs": [
    {
     "data": {
      "text/html": [
       "<div>\n",
       "<style scoped>\n",
       "    .dataframe tbody tr th:only-of-type {\n",
       "        vertical-align: middle;\n",
       "    }\n",
       "\n",
       "    .dataframe tbody tr th {\n",
       "        vertical-align: top;\n",
       "    }\n",
       "\n",
       "    .dataframe thead th {\n",
       "        text-align: right;\n",
       "    }\n",
       "</style>\n",
       "<table border=\"1\" class=\"dataframe\">\n",
       "  <thead>\n",
       "    <tr style=\"text-align: right;\">\n",
       "      <th></th>\n",
       "      <th>index</th>\n",
       "      <th>Entity</th>\n",
       "      <th>Year</th>\n",
       "      <th>Schizophrenia (%)</th>\n",
       "      <th>Bipolar disorder (%)</th>\n",
       "      <th>Eating disorders (%)</th>\n",
       "      <th>Anxiety disorders (%)</th>\n",
       "      <th>Drug use disorders (%)</th>\n",
       "      <th>Depression (%)</th>\n",
       "      <th>Alcohol use disorders (%)</th>\n",
       "    </tr>\n",
       "  </thead>\n",
       "  <tbody>\n",
       "    <tr>\n",
       "      <th>1</th>\n",
       "      <td>1</td>\n",
       "      <td>Afghanistan</td>\n",
       "      <td>1991</td>\n",
       "      <td>0.160312</td>\n",
       "      <td>0.697961</td>\n",
       "      <td>0.099313</td>\n",
       "      <td>4.829740</td>\n",
       "      <td>1.684746</td>\n",
       "      <td>4.079531</td>\n",
       "      <td>0.671768</td>\n",
       "    </tr>\n",
       "    <tr>\n",
       "      <th>2</th>\n",
       "      <td>2</td>\n",
       "      <td>Afghanistan</td>\n",
       "      <td>1992</td>\n",
       "      <td>0.160135</td>\n",
       "      <td>0.698107</td>\n",
       "      <td>0.096692</td>\n",
       "      <td>4.831108</td>\n",
       "      <td>1.694334</td>\n",
       "      <td>4.088358</td>\n",
       "      <td>0.670644</td>\n",
       "    </tr>\n",
       "    <tr>\n",
       "      <th>3</th>\n",
       "      <td>3</td>\n",
       "      <td>Afghanistan</td>\n",
       "      <td>1993</td>\n",
       "      <td>0.160037</td>\n",
       "      <td>0.698257</td>\n",
       "      <td>0.094336</td>\n",
       "      <td>4.830864</td>\n",
       "      <td>1.705320</td>\n",
       "      <td>4.096190</td>\n",
       "      <td>0.669738</td>\n",
       "    </tr>\n",
       "    <tr>\n",
       "      <th>4</th>\n",
       "      <td>4</td>\n",
       "      <td>Afghanistan</td>\n",
       "      <td>1994</td>\n",
       "      <td>0.160022</td>\n",
       "      <td>0.698469</td>\n",
       "      <td>0.092439</td>\n",
       "      <td>4.829423</td>\n",
       "      <td>1.716069</td>\n",
       "      <td>4.099582</td>\n",
       "      <td>0.669260</td>\n",
       "    </tr>\n",
       "    <tr>\n",
       "      <th>5</th>\n",
       "      <td>5</td>\n",
       "      <td>Afghanistan</td>\n",
       "      <td>1995</td>\n",
       "      <td>0.160076</td>\n",
       "      <td>0.698695</td>\n",
       "      <td>0.090980</td>\n",
       "      <td>4.828337</td>\n",
       "      <td>1.728112</td>\n",
       "      <td>4.104207</td>\n",
       "      <td>0.668746</td>\n",
       "    </tr>\n",
       "  </tbody>\n",
       "</table>\n",
       "</div>"
      ],
      "text/plain": [
       "   index       Entity  Year  Schizophrenia (%)  Bipolar disorder (%)  \\\n",
       "1      1  Afghanistan  1991           0.160312              0.697961   \n",
       "2      2  Afghanistan  1992           0.160135              0.698107   \n",
       "3      3  Afghanistan  1993           0.160037              0.698257   \n",
       "4      4  Afghanistan  1994           0.160022              0.698469   \n",
       "5      5  Afghanistan  1995           0.160076              0.698695   \n",
       "\n",
       "   Eating disorders (%)  Anxiety disorders (%)  Drug use disorders (%)  \\\n",
       "1              0.099313               4.829740                1.684746   \n",
       "2              0.096692               4.831108                1.694334   \n",
       "3              0.094336               4.830864                1.705320   \n",
       "4              0.092439               4.829423                1.716069   \n",
       "5              0.090980               4.828337                1.728112   \n",
       "\n",
       "   Depression (%)  Alcohol use disorders (%)  \n",
       "1        4.079531                   0.671768  \n",
       "2        4.088358                   0.670644  \n",
       "3        4.096190                   0.669738  \n",
       "4        4.099582                   0.669260  \n",
       "5        4.104207                   0.668746  "
      ]
     },
     "execution_count": 217,
     "metadata": {},
     "output_type": "execute_result"
    }
   ],
   "source": [
    "# 6. Get column names for DataFrame\n",
    "onehot_cols = pipeline.named_steps['preprocessor'].named_transformers_['cat'].get_feature_names_out(catergorical_columns)\n",
    "imputed_col_names = list(numerical_columns) + list(onehot_cols)\n",
    "imputed_col_names_with_id = ['Index'] + imputed_col_names\n",
    "\n",
    "# 7. Create DataFrame from imputed data\n",
    "data_imputed_df = pd.DataFrame(fitted, columns=imputed_col_names_with_id)\n",
    "\n",
    "# 8. Inverse-transform numerical columns to original scale\n",
    "scaler = pipeline.named_steps['preprocessor'].named_transformers_['num']\n",
    "num_indices = [data_imputed_df.columns.get_loc(col) for col in numerical_columns]\n",
    "imputed_numerical_scaled = data_imputed_df.iloc[:, num_indices]\n",
    "imputed_numerical_original = scaler.inverse_transform(imputed_numerical_scaled)\n",
    "\n",
    "# 9. Only fill nulls in original data with imputed values\n",
    "data_filled = data.copy()\n",
    "for i, col in enumerate(numerical_columns):\n",
    "    data_filled.loc[data_filled[col].isnull(), col] = imputed_numerical_original[data_filled[col].isnull(), i]\n",
    "\n",
    "# 10. Result: data_filled has original values + KNN-imputed nulls\n",
    "data_filled.head()"
   ]
  },
  {
   "cell_type": "code",
   "execution_count": 220,
   "id": "2185aa94",
   "metadata": {},
   "outputs": [
    {
     "name": "stdout",
     "output_type": "stream",
     "text": [
      "\n",
      "Final Imputed DataFrame:\n",
      "      index       Entity  Year  Schizophrenia (%)  Bipolar disorder (%)  \\\n",
      "1         1  Afghanistan  1991           0.160312              0.697961   \n",
      "2         2  Afghanistan  1992           0.160135              0.698107   \n",
      "3         3  Afghanistan  1993           0.160037              0.698257   \n",
      "4         4  Afghanistan  1994           0.160022              0.698469   \n",
      "5         5  Afghanistan  1995           0.160076              0.698695   \n",
      "...     ...          ...   ...                ...                   ...   \n",
      "6463   6463     Zimbabwe  2013           0.155670              0.607993   \n",
      "6464   6464     Zimbabwe  2014           0.155993              0.608610   \n",
      "6465   6465     Zimbabwe  2015           0.156465              0.609363   \n",
      "6466   6466     Zimbabwe  2016           0.157111              0.610234   \n",
      "6467   6467     Zimbabwe  2017           0.157963              0.611242   \n",
      "\n",
      "      Eating disorders (%)  Anxiety disorders (%)  Drug use disorders (%)  \\\n",
      "1                 0.099313               4.829740                1.684746   \n",
      "2                 0.096692               4.831108                1.694334   \n",
      "3                 0.094336               4.830864                1.705320   \n",
      "4                 0.092439               4.829423                1.716069   \n",
      "5                 0.090980               4.828337                1.728112   \n",
      "...                    ...                    ...                     ...   \n",
      "6463              0.117248               3.090168                0.766280   \n",
      "6464              0.118073               3.093964                0.768914   \n",
      "6465              0.119470               3.098687                0.771802   \n",
      "6466              0.121456               3.104294                0.772275   \n",
      "6467              0.124443               3.110926                0.772648   \n",
      "\n",
      "      Depression (%)  Alcohol use disorders (%)  \n",
      "1           4.079531                   0.671768  \n",
      "2           4.088358                   0.670644  \n",
      "3           4.096190                   0.669738  \n",
      "4           4.099582                   0.669260  \n",
      "5           4.104207                   0.668746  \n",
      "...              ...                        ...  \n",
      "6463        3.128192                   1.515641  \n",
      "6464        3.140290                   1.515470  \n",
      "6465        3.155710                   1.514751  \n",
      "6466        3.174134                   1.513269  \n",
      "6467        3.192789                   1.510943  \n",
      "\n",
      "[6467 rows x 10 columns]\n",
      "\n",
      "Missing values after full reconstruction:\n",
      "index                        0\n",
      "Entity                       0\n",
      "Year                         0\n",
      "Schizophrenia (%)            0\n",
      "Bipolar disorder (%)         0\n",
      "Eating disorders (%)         0\n",
      "Anxiety disorders (%)        0\n",
      "Drug use disorders (%)       0\n",
      "Depression (%)               0\n",
      "Alcohol use disorders (%)    0\n",
      "dtype: int64\n"
     ]
    }
   ],
   "source": [
    "# The imputed DataFrame with original values and KNN-imputed nulls is already available as 'data_filled'\n",
    "print(\"\\nFinal Imputed DataFrame:\")\n",
    "print(data_filled)\n",
    "print(\"\\nMissing values after full reconstruction:\")\n",
    "print(data_filled.isnull().sum())"
   ]
  },
  {
   "cell_type": "code",
   "execution_count": null,
   "id": "0b58dcc9",
   "metadata": {},
   "outputs": [],
   "source": [
    "# Assuming 'data' is your original DataFrame with missing values\n",
    "# And pipeline, numerical_columns, categorical_columns are defined as before\n",
    "\n",
    "# --- Revised Steps ---\n",
    "\n",
    "# 6. Reconstruct ALL column names for the 'fitted' (imputed) array\n",
    "# The ColumnTransformer outputs numerical (scaled) first, then one-hot encoded, then passthrough\n",
    "# If 'Customer ID' was numerical, it would be scaled. If string/object, it would be 'passthrough'.\n",
    "# Assuming 'Customer ID' was the only 'passthrough' column and it's not imputed,\n",
    "# it would appear at the end of the 'fitted' array.\n",
    "\n",
    "# Get the names of the one-hot encoded columns\n",
    "onehot_cols = pipeline.named_steps['preprocessor'].named_transformers_['cat'].get_feature_names_out(categorical_cols)\n",
    "\n",
    "# Combine numerical column names with encoded categorical column names\n",
    "# Assuming 'Customer ID' was NOT part of preprocessor and needs to be re-added later,\n",
    "# OR it was part of 'remainder='passthrough'' in the ColumnTransformer\n",
    "# Let's assume for now Customer ID was excluded from `numerical_cols` and `categorical_cols`\n",
    "# and you want to re-merge it at the end.\n",
    "\n",
    "# All columns that were processed by the ColumnTransformer (scaled numerical + one-hot encoded)\n",
    "processed_feature_names = numerical_cols + list(onehot_cols)\n",
    "\n",
    "# 7. Create DataFrame from imputed data\n",
    "# This DataFrame 'imputed_processed_df' will contain scaled numerical and one-hot encoded categorical.\n",
    "imputed_processed_df = pd.DataFrame(fitted, columns=processed_feature_names)\n",
    "\n",
    "# 8. Inverse-transform numerical columns to original scale\n",
    "scaler = pipeline.named_steps['preprocessor'].named_transformers_['num']\n",
    "\n",
    "# Extract ONLY the numerical columns (which are the first 'len(numerical_cols)' columns in 'fitted')\n",
    "# from the 'fitted' numpy array, before it was converted to 'imputed_processed_df' for clarity.\n",
    "# This ensures you're inverse transforming exactly what the scaler fit on.\n",
    "imputed_numerical_scaled_array = fitted[:, :len(numerical_cols)]\n",
    "\n",
    "# Perform the inverse transform\n",
    "imputed_numerical_original_array = scaler.inverse_transform(imputed_numerical_scaled_array)\n",
    "\n",
    "# Update the numerical columns in the imputed_processed_df with their original scale\n",
    "for i, col_name in enumerate(numerical_cols):\n",
    "    imputed_processed_df[col_name] = imputed_numerical_original_array[:, i]\n",
    "\n",
    "# 9. Handle one-hot encoded columns to get back original categories\n",
    "# Find the actual category for each row based on the one-hot encoded columns\n",
    "# Example: if Preferred Category_Apparel is 1, then category is 'Apparel'\n",
    "# This requires knowing which one-hot columns belong to which original categorical feature.\n",
    "# Let's take 'Preferred Category' as an example:\n",
    "# Ensure you map back to the single column if needed\n",
    "# This part is more involved for multiple categorical columns or if you want original string names back.\n",
    "\n",
    "# Simplified for 'Preferred Category' assuming it was the only cat column and you want the string back\n",
    "# You might need to adjust based on how your `OneHotEncoder` was set up and how many cat columns you have.\n",
    "if categorical_cols:\n",
    "    for cat_col in categorical_cols:\n",
    "        # Get the names of the one-hot encoded columns for this specific categorical_col\n",
    "        # This can be tricky if you have multiple categorical columns processed together.\n",
    "        # A more robust way might be to get the column indices from the ColumnTransformer.\n",
    "        # For simplicity, assuming one categorical column and its encoded names start with that column name:\n",
    "        encoded_names_for_this_cat = [c for c in processed_feature_names if c.startswith(cat_col + '_')]\n",
    "        # Find the column index of the '1' to get the category name\n",
    "        # idxmax(axis=1) gets the column name with the max value (which will be 1 for the active category)\n",
    "        imputed_processed_df[cat_col] = imputed_processed_df[encoded_names_for_this_cat].idxmax(axis=1).apply(lambda x: x.replace(cat_col + '_', ''))\n",
    "        # Drop the one-hot encoded columns\n",
    "        imputed_processed_df = imputed_processed_df.drop(columns=encoded_names_for_this_cat)\n",
    "\n",
    "\n",
    "# 10. (Re)Merge Customer ID and Final Result\n",
    "# Assuming Customer ID was not part of the imputation process.\n",
    "# If it was dropped earlier, re-add it from the original DataFrame.\n",
    "final_imputed_df = imputed_processed_df.copy()\n",
    "final_imputed_df['Customer ID'] = data['Customer ID'] # Or data['Customer ID'].reset_index(drop=True) if index changed\n",
    "\n",
    "# Reorder columns to match original if desired\n",
    "final_imputed_df = final_imputed_df[data.columns] # This assumes all original columns are now present\n",
    "\n",
    "print(\"\\nFinal Imputed DataFrame:\")\n",
    "print(final_imputed_df)\n",
    "print(\"\\nMissing values after full reconstruction:\")\n",
    "print(final_imputed_df.isnull().sum())"
   ]
  }
 ],
 "metadata": {
  "kernelspec": {
   "display_name": "Python 3",
   "language": "python",
   "name": "python3"
  },
  "language_info": {
   "codemirror_mode": {
    "name": "ipython",
    "version": 3
   },
   "file_extension": ".py",
   "mimetype": "text/x-python",
   "name": "python",
   "nbconvert_exporter": "python",
   "pygments_lexer": "ipython3",
   "version": "3.10.8"
  }
 },
 "nbformat": 4,
 "nbformat_minor": 5
}
