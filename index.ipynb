{
 "cells": [
  {
   "cell_type": "markdown",
   "id": "ec72f50a",
   "metadata": {},
   "source": [
    "# World Mental Health indicators "
   ]
  },
  {
   "cell_type": "markdown",
   "id": "3ace675a",
   "metadata": {},
   "source": [
    "### 📋 Introduction\n",
    "\n",
    "Mental health disorders constitute a significant portion of the global burden of disease and disability. According to the World Health Organization (WHO), mental health conditions such as depression, anxiety, and substance use disorders are among the leading causes of ill health and disability worldwide. Despite increasing awareness and policy efforts, many individuals still suffer in silence due to stigma, lack of resources, and inadequate mental health infrastructure.\n",
    "\n",
    "This analysis leverages a longitudinal dataset capturing the **estimated prevalence (% of the population)** of various mental health conditions across countries and territories from **1990 onwards**. By examining trends over time and across regions, this analysis aims to provide insights into how these disorders are distributed globally, how they have changed historically, and what patterns might emerge when disorders are compared or correlated.\n",
    "\n",
    "Understanding these patterns is crucial for guiding effective mental health interventions, shaping public policy, allocating healthcare resources, and promoting mental well-being at both national and international levels.\n",
    "\n",
    "---\n",
    "\n",
    "### 📂 Dataset Description\n",
    "\n",
    "The dataset consists of annual estimates of mental health disorder prevalence for multiple countries over several decades. Each observation represents the percentage of a country's population affected by a specific disorder in a given year. The dataset includes the following variables:\n",
    "\n",
    "- `index`: A unique identifier for each row in the dataset.\n",
    "- `Entity`: The name of the country, region, or global aggregate.\n",
    "- `Code`: The ISO 3166-1 alpha-3 code for the entity (where applicable).\n",
    "- `Year`: The calendar year of the observation.\n",
    "- `Schizophrenia (%)`: Estimated percentage of the population diagnosed with schizophrenia.\n",
    "- `Bipolar disorder (%)`: Estimated percentage affected by bipolar disorder.\n",
    "- `Eating disorders (%)`: Estimated percentage affected by conditions like anorexia nervosa or bulimia.\n",
    "- `Anxiety disorders (%)`: Estimated percentage affected by anxiety disorders (e.g., generalized anxiety, phobias).\n",
    "- `Drug use disorders (%)`: Estimated percentage with disorders related to drug misuse.\n",
    "- `Depression (%)`: Estimated percentage affected by depressive disorders (e.g., major depression).\n",
    "- `Alcohol use disorders (%)`: Estimated percentage with alcohol-related disorders.\n",
    "\n",
    "All prevalence values are reported as percentages and reflect modeled estimates based on epidemiological studies, surveys, and statistical methods. The scope and quality of the data may vary between countries and over time due to differences in reporting, diagnostic standards, and data availability.\n",
    "\n",
    "---\n",
    "\n",
    "### 🎯 Objectives of the Analysis\n",
    "\n",
    "This analysis aims to explore the following research questions and themes:\n",
    "\n",
    "1. **Temporal Trends**:  \n",
    "   How have the prevalence rates of mental health disorders changed globally and regionally from 1990 to the present? Are there disorders showing significant increases or decreases over time?\n",
    "\n",
    "2. **Geographical Distribution**:  \n",
    "   Which regions or countries exhibit the highest or lowest prevalence of specific mental health disorders? Are there noticeable regional patterns or clusters?\n",
    "\n",
    "3. **Disorder-Specific Patterns**:  \n",
    "   How do disorders compare in terms of their prevalence across different entities? Are some disorders more universally common while others show localized spikes?\n",
    "\n",
    "4. **Correlations and Co-occurrence**:  \n",
    "   Are certain mental health conditions likely to co-occur within populations? For example, is there a strong relationship between anxiety and depression prevalence?\n",
    "\n",
    "5. **Public Health Implications**:  \n",
    "   What do these trends imply for mental health services, awareness campaigns, and future interventions? Where should resources be prioritized?\n",
    "\n",
    "---\n",
    "\n",
    "### 📌 Scope and Limitations\n",
    "\n",
    "While this dataset provides valuable insights into global mental health trends, it's important to acknowledge the following limitations:\n",
    "\n",
    "- **Estimation Errors**: Prevalence values are based on modeled estimates and may not reflect precise real-world values.\n",
    "- **Reporting Disparities**: Mental health data may be underreported or inconsistently documented in certain regions due to stigma, lack of access to healthcare, or limited data collection infrastructure.\n",
    "- **No Demographic Breakdown**: The dataset does not include demographic details such as age, gender, or socioeconomic status, which are critical for deeper stratified analysis.\n",
    "- **Causality vs Correlation**: Observed patterns should not be interpreted as causal relationships without further in-depth study and contextual information.\n",
    "\n",
    "Despite these constraints, the dataset offers a valuable high-level perspective on mental health disorder prevalence and provides a strong starting point for more focused research.\n",
    "\n",
    "---\n",
    "\n",
    "### 🧭 Next Steps\n",
    "\n",
    "The following sections will include:\n",
    "\n",
    "- **Data Cleaning and Preparation**  \n",
    "- **Exploratory Data Analysis (EDA)**  \n",
    "- **Trend and Correlation Analysis**  \n",
    "- **Key Insights and Visualizations**  \n",
    "- **Recommendations and Future Work**\n",
    "\n",
    "Let’s begin by preparing the dataset for analysis.\n"
   ]
  },
  {
   "cell_type": "code",
   "execution_count": 1,
   "id": "7cad6798",
   "metadata": {},
   "outputs": [],
   "source": [
    "# importing libraries\n",
    "import numpy as np\n",
    "import matplotlib.pyplot as plt\n",
    "import seaborn as sns\n",
    "import pandas as pd"
   ]
  },
  {
   "cell_type": "markdown",
   "id": "cfc2cea8",
   "metadata": {},
   "source": [
    "Loading the dataset using pandas into a dataframe is done here. There are two parts of the dataset, split from index 6469. Our main focus in the machine learning process is on index 0 to 6468."
   ]
  },
  {
   "cell_type": "code",
   "execution_count": 2,
   "id": "35a363ae",
   "metadata": {},
   "outputs": [
    {
     "name": "stderr",
     "output_type": "stream",
     "text": [
      "C:\\Users\\user\\AppData\\Local\\Temp\\ipykernel_10496\\3319757204.py:2: DtypeWarning: Columns (5,6) have mixed types. Specify dtype option on import or set low_memory=False.\n",
      "  df = pd.read_csv(\"data.csv\")\n"
     ]
    }
   ],
   "source": [
    "# loading the dataset using pandas\n",
    "df = pd.read_csv(\"data.csv\")\n",
    "data = df[1:6468].copy()"
   ]
  },
  {
   "cell_type": "markdown",
   "id": "f095d473",
   "metadata": {},
   "source": [
    "## Data Understanding"
   ]
  },
  {
   "cell_type": "code",
   "execution_count": null,
   "id": "3d1fdcf3",
   "metadata": {},
   "outputs": [],
   "source": [
    "# checking the data head\n",
    "data.head()"
   ]
  },
  {
   "cell_type": "code",
   "execution_count": null,
   "id": "08f71715",
   "metadata": {},
   "outputs": [],
   "source": [
    "# Checking the data shape\n",
    "data.shape"
   ]
  },
  {
   "cell_type": "code",
   "execution_count": null,
   "id": "632cfb75",
   "metadata": {},
   "outputs": [],
   "source": [
    "# Checking the data tail\n",
    "data.tail()"
   ]
  },
  {
   "cell_type": "code",
   "execution_count": null,
   "id": "99273522",
   "metadata": {},
   "outputs": [],
   "source": [
    "# checking statistical description of the data\n",
    "data.describe"
   ]
  },
  {
   "cell_type": "markdown",
   "id": "3b79f2e9",
   "metadata": {},
   "source": [
    "## Data Cleaning"
   ]
  },
  {
   "cell_type": "markdown",
   "id": "d3e0d222",
   "metadata": {},
   "source": [
    "In this section, data will be cleaned based on these three metrics:\n",
    "- Validity\n",
    "- Consistency\n",
    "- Completeness\n",
    "- Accuracy"
   ]
  },
  {
   "cell_type": "markdown",
   "id": "686a87a0",
   "metadata": {},
   "source": [
    "#### Completeness\n",
    "\n",
    "Involves ensuring there are no missing values in the data. Involves finding null values in the data. "
   ]
  },
  {
   "cell_type": "code",
   "execution_count": null,
   "id": "49334369",
   "metadata": {},
   "outputs": [],
   "source": []
  },
  {
   "cell_type": "markdown",
   "id": "7d3ee346",
   "metadata": {},
   "source": [
    "The data is segmented into two parts, indices "
   ]
  },
  {
   "cell_type": "code",
   "execution_count": null,
   "id": "ab900f18",
   "metadata": {},
   "outputs": [],
   "source": [
    "\n"
   ]
  },
  {
   "cell_type": "code",
   "execution_count": null,
   "id": "f9d38617",
   "metadata": {},
   "outputs": [
    {
     "data": {
      "text/html": [
       "<div>\n",
       "<style scoped>\n",
       "    .dataframe tbody tr th:only-of-type {\n",
       "        vertical-align: middle;\n",
       "    }\n",
       "\n",
       "    .dataframe tbody tr th {\n",
       "        vertical-align: top;\n",
       "    }\n",
       "\n",
       "    .dataframe thead th {\n",
       "        text-align: right;\n",
       "    }\n",
       "</style>\n",
       "<table border=\"1\" class=\"dataframe\">\n",
       "  <thead>\n",
       "    <tr style=\"text-align: right;\">\n",
       "      <th></th>\n",
       "      <th>index</th>\n",
       "      <th>Entity</th>\n",
       "      <th>Code</th>\n",
       "      <th>Year</th>\n",
       "      <th>Schizophrenia (%)</th>\n",
       "      <th>Bipolar disorder (%)</th>\n",
       "      <th>Eating disorders (%)</th>\n",
       "      <th>Anxiety disorders (%)</th>\n",
       "      <th>Drug use disorders (%)</th>\n",
       "      <th>Depression (%)</th>\n",
       "      <th>Alcohol use disorders (%)</th>\n",
       "    </tr>\n",
       "  </thead>\n",
       "  <tbody>\n",
       "    <tr>\n",
       "      <th>1</th>\n",
       "      <td>1</td>\n",
       "      <td>Afghanistan</td>\n",
       "      <td>AFG</td>\n",
       "      <td>1991</td>\n",
       "      <td>0.160312</td>\n",
       "      <td>0.697961</td>\n",
       "      <td>0.099313</td>\n",
       "      <td>4.829740</td>\n",
       "      <td>1.684746</td>\n",
       "      <td>4.079531</td>\n",
       "      <td>0.671768</td>\n",
       "    </tr>\n",
       "    <tr>\n",
       "      <th>2</th>\n",
       "      <td>2</td>\n",
       "      <td>Afghanistan</td>\n",
       "      <td>AFG</td>\n",
       "      <td>1992</td>\n",
       "      <td>0.160135</td>\n",
       "      <td>0.698107</td>\n",
       "      <td>0.096692</td>\n",
       "      <td>4.831108</td>\n",
       "      <td>1.694334</td>\n",
       "      <td>4.088358</td>\n",
       "      <td>0.670644</td>\n",
       "    </tr>\n",
       "    <tr>\n",
       "      <th>3</th>\n",
       "      <td>3</td>\n",
       "      <td>Afghanistan</td>\n",
       "      <td>AFG</td>\n",
       "      <td>1993</td>\n",
       "      <td>0.160037</td>\n",
       "      <td>0.698257</td>\n",
       "      <td>0.094336</td>\n",
       "      <td>4.830864</td>\n",
       "      <td>1.705320</td>\n",
       "      <td>4.096190</td>\n",
       "      <td>0.669738</td>\n",
       "    </tr>\n",
       "    <tr>\n",
       "      <th>4</th>\n",
       "      <td>4</td>\n",
       "      <td>Afghanistan</td>\n",
       "      <td>AFG</td>\n",
       "      <td>1994</td>\n",
       "      <td>0.160022</td>\n",
       "      <td>0.698469</td>\n",
       "      <td>0.092439</td>\n",
       "      <td>4.829423</td>\n",
       "      <td>1.716069</td>\n",
       "      <td>4.099582</td>\n",
       "      <td>0.669260</td>\n",
       "    </tr>\n",
       "    <tr>\n",
       "      <th>5</th>\n",
       "      <td>5</td>\n",
       "      <td>Afghanistan</td>\n",
       "      <td>AFG</td>\n",
       "      <td>1995</td>\n",
       "      <td>0.160076</td>\n",
       "      <td>0.698695</td>\n",
       "      <td>0.09098</td>\n",
       "      <td>4.828337</td>\n",
       "      <td>1.728112</td>\n",
       "      <td>4.104207</td>\n",
       "      <td>0.668746</td>\n",
       "    </tr>\n",
       "  </tbody>\n",
       "</table>\n",
       "</div>"
      ],
      "text/plain": [
       "   index       Entity Code  Year Schizophrenia (%) Bipolar disorder (%)  \\\n",
       "1      1  Afghanistan  AFG  1991          0.160312             0.697961   \n",
       "2      2  Afghanistan  AFG  1992          0.160135             0.698107   \n",
       "3      3  Afghanistan  AFG  1993          0.160037             0.698257   \n",
       "4      4  Afghanistan  AFG  1994          0.160022             0.698469   \n",
       "5      5  Afghanistan  AFG  1995          0.160076             0.698695   \n",
       "\n",
       "  Eating disorders (%)  Anxiety disorders (%)  Drug use disorders (%)  \\\n",
       "1             0.099313               4.829740                1.684746   \n",
       "2             0.096692               4.831108                1.694334   \n",
       "3             0.094336               4.830864                1.705320   \n",
       "4             0.092439               4.829423                1.716069   \n",
       "5              0.09098               4.828337                1.728112   \n",
       "\n",
       "   Depression (%)  Alcohol use disorders (%)  \n",
       "1        4.079531                   0.671768  \n",
       "2        4.088358                   0.670644  \n",
       "3        4.096190                   0.669738  \n",
       "4        4.099582                   0.669260  \n",
       "5        4.104207                   0.668746  "
      ]
     },
     "execution_count": 3,
     "metadata": {},
     "output_type": "execute_result"
    }
   ],
   "source": []
  },
  {
   "cell_type": "code",
   "execution_count": null,
   "id": "c349de3b",
   "metadata": {},
   "outputs": [
    {
     "data": {
      "text/plain": [
       "(6467, 11)"
      ]
     },
     "execution_count": 4,
     "metadata": {},
     "output_type": "execute_result"
    }
   ],
   "source": []
  },
  {
   "cell_type": "code",
   "execution_count": null,
   "id": "561962c8",
   "metadata": {},
   "outputs": [
    {
     "data": {
      "text/plain": [
       "<bound method NDFrame.describe of       index       Entity Code  Year Schizophrenia (%) Bipolar disorder (%)  \\\n",
       "1         1  Afghanistan  AFG  1991          0.160312             0.697961   \n",
       "2         2  Afghanistan  AFG  1992          0.160135             0.698107   \n",
       "3         3  Afghanistan  AFG  1993          0.160037             0.698257   \n",
       "4         4  Afghanistan  AFG  1994          0.160022             0.698469   \n",
       "5         5  Afghanistan  AFG  1995          0.160076             0.698695   \n",
       "...     ...          ...  ...   ...               ...                  ...   \n",
       "6463   6463     Zimbabwe  ZWE  2013           0.15567             0.607993   \n",
       "6464   6464     Zimbabwe  ZWE  2014          0.155993              0.60861   \n",
       "6465   6465     Zimbabwe  ZWE  2015          0.156465             0.609363   \n",
       "6466   6466     Zimbabwe  ZWE  2016          0.157111             0.610234   \n",
       "6467   6467     Zimbabwe  ZWE  2017          0.157963             0.611242   \n",
       "\n",
       "     Eating disorders (%)  Anxiety disorders (%)  Drug use disorders (%)  \\\n",
       "1                0.099313               4.829740                1.684746   \n",
       "2                0.096692               4.831108                1.694334   \n",
       "3                0.094336               4.830864                1.705320   \n",
       "4                0.092439               4.829423                1.716069   \n",
       "5                 0.09098               4.828337                1.728112   \n",
       "...                   ...                    ...                     ...   \n",
       "6463             0.117248               3.090168                0.766280   \n",
       "6464             0.118073               3.093964                0.768914   \n",
       "6465              0.11947               3.098687                0.771802   \n",
       "6466             0.121456               3.104294                0.772275   \n",
       "6467             0.124443               3.110926                0.772648   \n",
       "\n",
       "      Depression (%)  Alcohol use disorders (%)  \n",
       "1           4.079531                   0.671768  \n",
       "2           4.088358                   0.670644  \n",
       "3           4.096190                   0.669738  \n",
       "4           4.099582                   0.669260  \n",
       "5           4.104207                   0.668746  \n",
       "...              ...                        ...  \n",
       "6463        3.128192                   1.515641  \n",
       "6464        3.140290                   1.515470  \n",
       "6465        3.155710                   1.514751  \n",
       "6466        3.174134                   1.513269  \n",
       "6467        3.192789                   1.510943  \n",
       "\n",
       "[6467 rows x 11 columns]>"
      ]
     },
     "execution_count": 5,
     "metadata": {},
     "output_type": "execute_result"
    }
   ],
   "source": []
  },
  {
   "cell_type": "code",
   "execution_count": 6,
   "id": "aba634c5",
   "metadata": {},
   "outputs": [],
   "source": [
    "data = data[1:6470]\n"
   ]
  },
  {
   "cell_type": "code",
   "execution_count": 7,
   "id": "08f1847d",
   "metadata": {},
   "outputs": [
    {
     "data": {
      "text/plain": [
       "(6466, 11)"
      ]
     },
     "execution_count": 7,
     "metadata": {},
     "output_type": "execute_result"
    }
   ],
   "source": [
    "data.shape"
   ]
  },
  {
   "cell_type": "code",
   "execution_count": 8,
   "id": "4926b201",
   "metadata": {},
   "outputs": [
    {
     "data": {
      "text/html": [
       "<div>\n",
       "<style scoped>\n",
       "    .dataframe tbody tr th:only-of-type {\n",
       "        vertical-align: middle;\n",
       "    }\n",
       "\n",
       "    .dataframe tbody tr th {\n",
       "        vertical-align: top;\n",
       "    }\n",
       "\n",
       "    .dataframe thead th {\n",
       "        text-align: right;\n",
       "    }\n",
       "</style>\n",
       "<table border=\"1\" class=\"dataframe\">\n",
       "  <thead>\n",
       "    <tr style=\"text-align: right;\">\n",
       "      <th></th>\n",
       "      <th>index</th>\n",
       "      <th>Entity</th>\n",
       "      <th>Code</th>\n",
       "      <th>Year</th>\n",
       "      <th>Schizophrenia (%)</th>\n",
       "      <th>Bipolar disorder (%)</th>\n",
       "      <th>Eating disorders (%)</th>\n",
       "      <th>Anxiety disorders (%)</th>\n",
       "      <th>Drug use disorders (%)</th>\n",
       "      <th>Depression (%)</th>\n",
       "      <th>Alcohol use disorders (%)</th>\n",
       "    </tr>\n",
       "  </thead>\n",
       "  <tbody>\n",
       "    <tr>\n",
       "      <th>2</th>\n",
       "      <td>2</td>\n",
       "      <td>Afghanistan</td>\n",
       "      <td>AFG</td>\n",
       "      <td>1992</td>\n",
       "      <td>0.160135</td>\n",
       "      <td>0.698107</td>\n",
       "      <td>0.096692</td>\n",
       "      <td>4.831108</td>\n",
       "      <td>1.694334</td>\n",
       "      <td>4.088358</td>\n",
       "      <td>0.670644</td>\n",
       "    </tr>\n",
       "    <tr>\n",
       "      <th>3</th>\n",
       "      <td>3</td>\n",
       "      <td>Afghanistan</td>\n",
       "      <td>AFG</td>\n",
       "      <td>1993</td>\n",
       "      <td>0.160037</td>\n",
       "      <td>0.698257</td>\n",
       "      <td>0.094336</td>\n",
       "      <td>4.830864</td>\n",
       "      <td>1.705320</td>\n",
       "      <td>4.096190</td>\n",
       "      <td>0.669738</td>\n",
       "    </tr>\n",
       "    <tr>\n",
       "      <th>4</th>\n",
       "      <td>4</td>\n",
       "      <td>Afghanistan</td>\n",
       "      <td>AFG</td>\n",
       "      <td>1994</td>\n",
       "      <td>0.160022</td>\n",
       "      <td>0.698469</td>\n",
       "      <td>0.092439</td>\n",
       "      <td>4.829423</td>\n",
       "      <td>1.716069</td>\n",
       "      <td>4.099582</td>\n",
       "      <td>0.669260</td>\n",
       "    </tr>\n",
       "    <tr>\n",
       "      <th>5</th>\n",
       "      <td>5</td>\n",
       "      <td>Afghanistan</td>\n",
       "      <td>AFG</td>\n",
       "      <td>1995</td>\n",
       "      <td>0.160076</td>\n",
       "      <td>0.698695</td>\n",
       "      <td>0.09098</td>\n",
       "      <td>4.828337</td>\n",
       "      <td>1.728112</td>\n",
       "      <td>4.104207</td>\n",
       "      <td>0.668746</td>\n",
       "    </tr>\n",
       "    <tr>\n",
       "      <th>6</th>\n",
       "      <td>6</td>\n",
       "      <td>Afghanistan</td>\n",
       "      <td>AFG</td>\n",
       "      <td>1996</td>\n",
       "      <td>0.160249</td>\n",
       "      <td>0.698914</td>\n",
       "      <td>0.089709</td>\n",
       "      <td>4.828083</td>\n",
       "      <td>1.737643</td>\n",
       "      <td>4.107500</td>\n",
       "      <td>0.667727</td>\n",
       "    </tr>\n",
       "  </tbody>\n",
       "</table>\n",
       "</div>"
      ],
      "text/plain": [
       "   index       Entity Code  Year Schizophrenia (%) Bipolar disorder (%)  \\\n",
       "2      2  Afghanistan  AFG  1992          0.160135             0.698107   \n",
       "3      3  Afghanistan  AFG  1993          0.160037             0.698257   \n",
       "4      4  Afghanistan  AFG  1994          0.160022             0.698469   \n",
       "5      5  Afghanistan  AFG  1995          0.160076             0.698695   \n",
       "6      6  Afghanistan  AFG  1996          0.160249             0.698914   \n",
       "\n",
       "  Eating disorders (%)  Anxiety disorders (%)  Drug use disorders (%)  \\\n",
       "2             0.096692               4.831108                1.694334   \n",
       "3             0.094336               4.830864                1.705320   \n",
       "4             0.092439               4.829423                1.716069   \n",
       "5              0.09098               4.828337                1.728112   \n",
       "6             0.089709               4.828083                1.737643   \n",
       "\n",
       "   Depression (%)  Alcohol use disorders (%)  \n",
       "2        4.088358                   0.670644  \n",
       "3        4.096190                   0.669738  \n",
       "4        4.099582                   0.669260  \n",
       "5        4.104207                   0.668746  \n",
       "6        4.107500                   0.667727  "
      ]
     },
     "execution_count": 8,
     "metadata": {},
     "output_type": "execute_result"
    }
   ],
   "source": [
    "data.head()"
   ]
  },
  {
   "cell_type": "code",
   "execution_count": null,
   "id": "b281279a",
   "metadata": {},
   "outputs": [
    {
     "data": {
      "text/html": [
       "<div>\n",
       "<style scoped>\n",
       "    .dataframe tbody tr th:only-of-type {\n",
       "        vertical-align: middle;\n",
       "    }\n",
       "\n",
       "    .dataframe tbody tr th {\n",
       "        vertical-align: top;\n",
       "    }\n",
       "\n",
       "    .dataframe thead th {\n",
       "        text-align: right;\n",
       "    }\n",
       "</style>\n",
       "<table border=\"1\" class=\"dataframe\">\n",
       "  <thead>\n",
       "    <tr style=\"text-align: right;\">\n",
       "      <th></th>\n",
       "      <th>index</th>\n",
       "      <th>Entity</th>\n",
       "      <th>Code</th>\n",
       "      <th>Year</th>\n",
       "      <th>Schizophrenia (%)</th>\n",
       "      <th>Bipolar disorder (%)</th>\n",
       "      <th>Eating disorders (%)</th>\n",
       "      <th>Anxiety disorders (%)</th>\n",
       "      <th>Drug use disorders (%)</th>\n",
       "      <th>Depression (%)</th>\n",
       "      <th>Alcohol use disorders (%)</th>\n",
       "    </tr>\n",
       "  </thead>\n",
       "  <tbody>\n",
       "    <tr>\n",
       "      <th>6463</th>\n",
       "      <td>6463</td>\n",
       "      <td>Zimbabwe</td>\n",
       "      <td>ZWE</td>\n",
       "      <td>2013</td>\n",
       "      <td>0.15567</td>\n",
       "      <td>0.607993</td>\n",
       "      <td>0.117248</td>\n",
       "      <td>3.090168</td>\n",
       "      <td>0.766280</td>\n",
       "      <td>3.128192</td>\n",
       "      <td>1.515641</td>\n",
       "    </tr>\n",
       "    <tr>\n",
       "      <th>6464</th>\n",
       "      <td>6464</td>\n",
       "      <td>Zimbabwe</td>\n",
       "      <td>ZWE</td>\n",
       "      <td>2014</td>\n",
       "      <td>0.155993</td>\n",
       "      <td>0.60861</td>\n",
       "      <td>0.118073</td>\n",
       "      <td>3.093964</td>\n",
       "      <td>0.768914</td>\n",
       "      <td>3.140290</td>\n",
       "      <td>1.515470</td>\n",
       "    </tr>\n",
       "    <tr>\n",
       "      <th>6465</th>\n",
       "      <td>6465</td>\n",
       "      <td>Zimbabwe</td>\n",
       "      <td>ZWE</td>\n",
       "      <td>2015</td>\n",
       "      <td>0.156465</td>\n",
       "      <td>0.609363</td>\n",
       "      <td>0.11947</td>\n",
       "      <td>3.098687</td>\n",
       "      <td>0.771802</td>\n",
       "      <td>3.155710</td>\n",
       "      <td>1.514751</td>\n",
       "    </tr>\n",
       "    <tr>\n",
       "      <th>6466</th>\n",
       "      <td>6466</td>\n",
       "      <td>Zimbabwe</td>\n",
       "      <td>ZWE</td>\n",
       "      <td>2016</td>\n",
       "      <td>0.157111</td>\n",
       "      <td>0.610234</td>\n",
       "      <td>0.121456</td>\n",
       "      <td>3.104294</td>\n",
       "      <td>0.772275</td>\n",
       "      <td>3.174134</td>\n",
       "      <td>1.513269</td>\n",
       "    </tr>\n",
       "    <tr>\n",
       "      <th>6467</th>\n",
       "      <td>6467</td>\n",
       "      <td>Zimbabwe</td>\n",
       "      <td>ZWE</td>\n",
       "      <td>2017</td>\n",
       "      <td>0.157963</td>\n",
       "      <td>0.611242</td>\n",
       "      <td>0.124443</td>\n",
       "      <td>3.110926</td>\n",
       "      <td>0.772648</td>\n",
       "      <td>3.192789</td>\n",
       "      <td>1.510943</td>\n",
       "    </tr>\n",
       "  </tbody>\n",
       "</table>\n",
       "</div>"
      ],
      "text/plain": [
       "      index    Entity Code  Year Schizophrenia (%) Bipolar disorder (%)  \\\n",
       "6463   6463  Zimbabwe  ZWE  2013           0.15567             0.607993   \n",
       "6464   6464  Zimbabwe  ZWE  2014          0.155993              0.60861   \n",
       "6465   6465  Zimbabwe  ZWE  2015          0.156465             0.609363   \n",
       "6466   6466  Zimbabwe  ZWE  2016          0.157111             0.610234   \n",
       "6467   6467  Zimbabwe  ZWE  2017          0.157963             0.611242   \n",
       "\n",
       "     Eating disorders (%)  Anxiety disorders (%)  Drug use disorders (%)  \\\n",
       "6463             0.117248               3.090168                0.766280   \n",
       "6464             0.118073               3.093964                0.768914   \n",
       "6465              0.11947               3.098687                0.771802   \n",
       "6466             0.121456               3.104294                0.772275   \n",
       "6467             0.124443               3.110926                0.772648   \n",
       "\n",
       "      Depression (%)  Alcohol use disorders (%)  \n",
       "6463        3.128192                   1.515641  \n",
       "6464        3.140290                   1.515470  \n",
       "6465        3.155710                   1.514751  \n",
       "6466        3.174134                   1.513269  \n",
       "6467        3.192789                   1.510943  "
      ]
     },
     "execution_count": 9,
     "metadata": {},
     "output_type": "execute_result"
    }
   ],
   "source": []
  },
  {
   "cell_type": "code",
   "execution_count": 10,
   "id": "4ee6a95a",
   "metadata": {},
   "outputs": [
    {
     "data": {
      "text/plain": [
       "index                          0\n",
       "Entity                         0\n",
       "Code                         980\n",
       "Year                           0\n",
       "Schizophrenia (%)              0\n",
       "Bipolar disorder (%)           0\n",
       "Eating disorders (%)           0\n",
       "Anxiety disorders (%)          0\n",
       "Drug use disorders (%)         0\n",
       "Depression (%)                 0\n",
       "Alcohol use disorders (%)      0\n",
       "dtype: int64"
      ]
     },
     "execution_count": 10,
     "metadata": {},
     "output_type": "execute_result"
    }
   ],
   "source": [
    "# Checking the data for null values\n",
    "data.isnull().sum()"
   ]
  },
  {
   "cell_type": "code",
   "execution_count": 11,
   "id": "d59b8c87",
   "metadata": {},
   "outputs": [],
   "source": [
    "'''\n",
    "The Code column contains the country codes, which are not needed for analysis.\n",
    "We will drop this column to focus on the relevant data.\n",
    "'''\n",
    "\n",
    "# dropping the 'Code'  column\n",
    "data = data.drop(columns=['Code','index'], axis=1)"
   ]
  },
  {
   "cell_type": "code",
   "execution_count": 12,
   "id": "fbdc6dcb",
   "metadata": {},
   "outputs": [
    {
     "data": {
      "text/plain": [
       "Index(['Entity', 'Year', 'Schizophrenia (%)', 'Bipolar disorder (%)',\n",
       "       'Eating disorders (%)', 'Anxiety disorders (%)',\n",
       "       'Drug use disorders (%)', 'Depression (%)',\n",
       "       'Alcohol use disorders (%)'],\n",
       "      dtype='object')"
      ]
     },
     "execution_count": 12,
     "metadata": {},
     "output_type": "execute_result"
    }
   ],
   "source": [
    "# Confirming the column drop\n",
    "data.columns"
   ]
  },
  {
   "cell_type": "code",
   "execution_count": 13,
   "id": "c11b9822",
   "metadata": {},
   "outputs": [
    {
     "data": {
      "text/plain": [
       "0"
      ]
     },
     "execution_count": 13,
     "metadata": {},
     "output_type": "execute_result"
    }
   ],
   "source": [
    "# Checking for duplicate rows\n",
    "data.duplicated().sum()"
   ]
  },
  {
   "cell_type": "code",
   "execution_count": 14,
   "id": "9e611a05",
   "metadata": {},
   "outputs": [
    {
     "data": {
      "image/png": "[encoded data removed]",
      "text/plain": [
       "<Figure size 640x480 with 1 Axes>"
      ]
     },
     "metadata": {},
     "output_type": "display_data"
    }
   ],
   "source": [
    "# Checking for outliers in the data\n",
    "plt.boxplot(data.select_dtypes(include=[np.number]).values)\n",
    "plt.title('Boxplot of Data')\n",
    "plt.xticks(ticks=range(1, len(data.select_dtypes(include=[np.number]).columns) + 1),\n",
    "\t\t   labels=data.select_dtypes(include=[np.number]).columns, rotation=45)\n",
    "plt.show()\n"
   ]
  }
 ],
 "metadata": {
  "kernelspec": {
   "display_name": "venv",
   "language": "python",
   "name": "python3"
  },
  "language_info": {
   "codemirror_mode": {
    "name": "ipython",
    "version": 3
   },
   "file_extension": ".py",
   "mimetype": "text/x-python",
   "name": "python",
   "nbconvert_exporter": "python",
   "pygments_lexer": "ipython3",
   "version": "3.8.11"
  }
 },
 "nbformat": 4,
 "nbformat_minor": 5
}
